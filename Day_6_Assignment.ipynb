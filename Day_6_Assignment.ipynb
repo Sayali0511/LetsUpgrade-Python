{
 "cells": [
  {
   "cell_type": "code",
   "execution_count": 2,
   "metadata": {},
   "outputs": [
    {
     "name": "stdout",
     "output_type": "stream",
     "text": [
      "['a', 'b', 'c', 'd', 'e', 1, 2, 3, 4, 5, 7, 8]\n"
     ]
    }
   ],
   "source": [
    "#Convert to a dictionary in one line code using list comprehension (without using zip method)\n",
    "\n",
    "list1 = [1,2,3,4,5,7,8]\n",
    "list2 = ['a','b','c','d','e']\n",
    "\n",
    "for each in list1:\n",
    "         list2.append((each))\n",
    "print (list2)"
   ]
  },
  {
   "cell_type": "code",
   "execution_count": null,
   "metadata": {},
   "outputs": [],
   "source": []
  }
 ],
 "metadata": {
  "kernelspec": {
   "display_name": "Python 3",
   "language": "python",
   "name": "python3"
  },
  "language_info": {
   "codemirror_mode": {
    "name": "ipython",
    "version": 3
   },
   "file_extension": ".py",
   "mimetype": "text/x-python",
   "name": "python",
   "nbconvert_exporter": "python",
   "pygments_lexer": "ipython3",
   "version": "3.7.4"
  }
 },
 "nbformat": 4,
 "nbformat_minor": 2
}
